{
 "cells": [
  {
   "cell_type": "markdown",
   "metadata": {},
   "source": [
    "# extraction "
   ]
  },
  {
   "cell_type": "code",
   "execution_count": null,
   "metadata": {},
   "outputs": [],
   "source": []
  },
  {
   "cell_type": "code",
   "execution_count": 1,
   "metadata": {},
   "outputs": [],
   "source": [
    "\n",
    "from pdfminer.pdfparser import PDFParser\n",
    "from pdfminer.pdfdocument import PDFDocument\n",
    "from pdfminer.pdfinterp import PDFResourceManager, PDFPageInterpreter\n",
    "from pdfminer.converter import PDFPageAggregator\n",
    "from pdfminer.layout import LAParams, LTTextBox\n",
    "\n",
    "pdf_rep = '../pdf'\n",
    "path = '/Users/louispuyo/Downloads/1034-2015.pdf'\n",
    "\n",
    "directory = '/Users/louispuyo/PGT-DATA/data-jupyter/pdf'\n"
   ]
  },
  {
   "cell_type": "code",
   "execution_count": null,
   "metadata": {},
   "outputs": [],
   "source": [
    "import os\n",
    "import pandas as pd\n",
    "import tabula\n",
    "\n",
    "def read_budgets(directory):\n",
    "    budgets = []\n",
    "    for filename in os.listdir(directory):\n",
    "        budget_tables = tabula.read_pdf(\n",
    "            f\"{directory}/{filename}\",\n",
    "            multiple_tables=True,\n",
    "            pages=1\n",
    "        )\n",
    "        budgets.append(budget_tables)\n",
    "\n",
    "    return budgets\n",
    "\n",
    "\n"
   ]
  },
  {
   "cell_type": "code",
   "execution_count": null,
   "metadata": {},
   "outputs": [],
   "source": [
    "\n"
   ]
  },
  {
   "cell_type": "code",
   "execution_count": 2,
   "metadata": {},
   "outputs": [
    {
     "data": {
      "text/plain": [
       "<function TextIOWrapper.close()>"
      ]
     },
     "execution_count": 2,
     "metadata": {},
     "output_type": "execute_result"
    }
   ],
   "source": [
    "import csv\n",
    "import pdfplumber\n",
    "\n",
    "outfile = open('CAWARN-all-pages.csv', 'w')\n",
    "outcsv = csv.writer(outfile)\n",
    "\n",
    "pdf = pdfplumber.open(path)\n",
    "for page in pdf.pages:\n",
    "    table = page.extract_table()\n",
    "    for row in table[1:]:  # note how I'm still skipping the header\n",
    "        outcsv.writerow(row)\n",
    "outfile.close"
   ]
  },
  {
   "cell_type": "code",
   "execution_count": 18,
   "metadata": {},
   "outputs": [
    {
     "ename": "FileNotFoundError",
     "evalue": "[Errno 2] No such file or directory: '.csv'",
     "output_type": "error",
     "traceback": [
      "\u001b[0;31m---------------------------------------------------------------------------\u001b[0m",
      "\u001b[0;31mFileNotFoundError\u001b[0m                         Traceback (most recent call last)",
      "\u001b[0;32m<ipython-input-18-789f0b50fd13>\u001b[0m in \u001b[0;36m<module>\u001b[0;34m\u001b[0m\n\u001b[1;32m      1\u001b[0m \u001b[0;32mimport\u001b[0m \u001b[0mcsv\u001b[0m\u001b[0;34m\u001b[0m\u001b[0;34m\u001b[0m\u001b[0m\n\u001b[1;32m      2\u001b[0m \u001b[0;34m\u001b[0m\u001b[0m\n\u001b[0;32m----> 3\u001b[0;31m \u001b[0minputfile\u001b[0m \u001b[0;34m=\u001b[0m \u001b[0mopen\u001b[0m\u001b[0;34m(\u001b[0m\u001b[0;34m'.csv'\u001b[0m\u001b[0;34m,\u001b[0m \u001b[0;34m'r'\u001b[0m\u001b[0;34m)\u001b[0m\u001b[0;34m\u001b[0m\u001b[0;34m\u001b[0m\u001b[0m\n\u001b[0m\u001b[1;32m      4\u001b[0m \u001b[0moutputfile_1\u001b[0m \u001b[0;34m=\u001b[0m \u001b[0mopen\u001b[0m\u001b[0;34m(\u001b[0m\u001b[0;34m'output.csv'\u001b[0m\u001b[0;34m,\u001b[0m \u001b[0;34m'w'\u001b[0m\u001b[0;34m)\u001b[0m\u001b[0;34m\u001b[0m\u001b[0;34m\u001b[0m\u001b[0m\n\u001b[1;32m      5\u001b[0m \u001b[0;34m\u001b[0m\u001b[0m\n",
      "\u001b[0;31mFileNotFoundError\u001b[0m: [Errno 2] No such file or directory: '.csv'"
     ]
    }
   ],
   "source": [
    "import csv\n",
    "\n",
    "inputfile = open('/Users/louispuyo/Downloads/1034-2015.pdf', 'r')\n",
    "outputfile_1 = open('output.csv', 'w')\n",
    "\n",
    "counter = 1\n",
    "for line in inputfile:\n",
    "    #Skip header row\n",
    "    if counter == 1:\n",
    "        outputfile_1.write(line)\n",
    "        counter = counter + 1\n",
    "    else:\n",
    "        line = line.replace('\\r', '').replace('\\n', '')\n",
    "        outputfile_1.write(line)\n",
    "\n",
    "inputfile.close()\n",
    "outputfile_1.close()\n",
    "\n",
    "with open('output.csv', 'r') as f:\n",
    "    text = f.read()\n",
    "\n",
    "    comma_count = text.count(',') #comma_count/6 = total number of rows\n",
    "\n",
    "    #need to insert a newline after the field contents after every 6th comma\n",
    "    #unfortunately the last field of the row and the first field of the next row are now rammed up together becaue of the newline replaces above...\n",
    "    #then process as normal CSV\n",
    "\n",
    "    #one path I started to go down... but this isn't even functional\n",
    "    groups = text.split(',')\n",
    "\n",
    "    counter2 = 1\n",
    "    while (counter2 <= comma_count/6):\n",
    "        line = (','.join(groups[:(6*counter2)]), ','.join(groups[(6*counter2):]))\n",
    "        print(line)\n",
    "        counter2 = counter2 + 1"
   ]
  },
  {
   "cell_type": "code",
   "execution_count": null,
   "metadata": {},
   "outputs": [],
   "source": []
  },
  {
   "cell_type": "code",
   "execution_count": null,
   "metadata": {},
   "outputs": [],
   "source": []
  }
 ],
 "metadata": {
  "kernelspec": {
   "display_name": "Python 3",
   "language": "python",
   "name": "python3"
  },
  "language_info": {
   "codemirror_mode": {
    "name": "ipython",
    "version": 3
   },
   "file_extension": ".py",
   "mimetype": "text/x-python",
   "name": "python",
   "nbconvert_exporter": "python",
   "pygments_lexer": "ipython3",
   "version": "3.7.3"
  }
 },
 "nbformat": 4,
 "nbformat_minor": 2
}
