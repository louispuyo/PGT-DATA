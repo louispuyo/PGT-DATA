{
 "cells": [
  {
   "cell_type": "markdown",
   "metadata": {},
   "source": [
    "# Consommation m3 \n",
    "### pas totalement terminer -> regex pas ouf"
   ]
  },
  {
   "cell_type": "code",
   "execution_count": 34,
   "metadata": {},
   "outputs": [
    {
     "data": {
      "text/html": [
       "<div>\n",
       "<style scoped>\n",
       "    .dataframe tbody tr th:only-of-type {\n",
       "        vertical-align: middle;\n",
       "    }\n",
       "\n",
       "    .dataframe tbody tr th {\n",
       "        vertical-align: top;\n",
       "    }\n",
       "\n",
       "    .dataframe thead th {\n",
       "        text-align: right;\n",
       "    }\n",
       "</style>\n",
       "<table border=\"1\" class=\"dataframe\">\n",
       "  <thead>\n",
       "    <tr style=\"text-align: right;\">\n",
       "      <th></th>\n",
       "      <th>0</th>\n",
       "    </tr>\n",
       "  </thead>\n",
       "  <tbody>\n",
       "    <tr>\n",
       "      <th>3</th>\n",
       "      <td>695</td>\n",
       "    </tr>\n",
       "    <tr>\n",
       "      <th>5</th>\n",
       "      <td>688</td>\n",
       "    </tr>\n",
       "    <tr>\n",
       "      <th>7</th>\n",
       "      <td>669</td>\n",
       "    </tr>\n",
       "    <tr>\n",
       "      <th>9</th>\n",
       "      <td>660</td>\n",
       "    </tr>\n",
       "  </tbody>\n",
       "</table>\n",
       "</div>"
      ],
      "text/plain": [
       "     0\n",
       "3  695\n",
       "5  688\n",
       "7  669\n",
       "9  660"
      ]
     },
     "execution_count": 34,
     "metadata": {},
     "output_type": "execute_result"
    }
   ],
   "source": [
    "import dask.dataframe as dd\n",
    "import pandas as pd\n",
    "import numpy as np\n",
    "\n",
    "df = dd.read_csv(\"/Users/louispuyo/AAA/tabula-1034-DEPENSES-2016.csv\")\n",
    "df.head()\n",
    "iter_csv = pd.read_csv(\"/Users/louispuyo/AAA/tabula-1034-DEPENSES-2016.csv\",\n",
    "                       iterator=True,\n",
    "                       chunksize=1000)\n",
    "key = 'm3'\n",
    "\n",
    "df3 = pd.concat([chunk[chunk[\"Unnamed: 1\"].str.endswith(key, na=False)]\n",
    "                for chunk in iter_csv])\n",
    "\n",
    "\n",
    "\n",
    "df3 = df3['Unnamed: 1'].str.extract('([0-9][0-9][0-9])', expand=True)\n",
    "df3.head(16)\n"
   ]
  },
  {
   "cell_type": "markdown",
   "metadata": {},
   "source": [
    "# Consommation kwh"
   ]
  },
  {
   "cell_type": "code",
   "execution_count": 37,
   "metadata": {},
   "outputs": [
    {
     "data": {
      "text/html": [
       "<div>\n",
       "<style scoped>\n",
       "    .dataframe tbody tr th:only-of-type {\n",
       "        vertical-align: middle;\n",
       "    }\n",
       "\n",
       "    .dataframe tbody tr th {\n",
       "        vertical-align: top;\n",
       "    }\n",
       "\n",
       "    .dataframe thead th {\n",
       "        text-align: right;\n",
       "    }\n",
       "</style>\n",
       "<table border=\"1\" class=\"dataframe\">\n",
       "  <thead>\n",
       "    <tr style=\"text-align: right;\">\n",
       "      <th></th>\n",
       "      <th>0</th>\n",
       "    </tr>\n",
       "  </thead>\n",
       "  <tbody>\n",
       "  </tbody>\n",
       "</table>\n",
       "</div>"
      ],
      "text/plain": [
       "Empty DataFrame\n",
       "Columns: [0]\n",
       "Index: []"
      ]
     },
     "execution_count": 37,
     "metadata": {},
     "output_type": "execute_result"
    }
   ],
   "source": [
    "import dask.dataframe as dd\n",
    "import pandas as pd\n",
    "import numpy as np\n",
    "\n",
    "df = dd.read_csv(\"/Users/louispuyo/AAA/tabula-1034-DEPENSES-2016.csv\")\n",
    "df.head()\n",
    "iter_csv = pd.read_csv(\"/Users/louispuyo/AAA/tabula-1034-DEPENSES-2016.csv\",\n",
    "                       iterator=True,\n",
    "                       chunksize=1000)\n",
    "key = 'kwh'\n",
    "\n",
    "df3 = pd.concat([chunk[chunk[\"Unnamed: 1\"].str.endswith(key, na=False)]\n",
    "                for chunk in iter_csv])\n",
    "\n",
    "\n",
    "df3.head(50)\n",
    "df3 = df3['Unnamed: 1'].str.extract('(\\d\\d\\d+)', expand=True)\n",
    "# regx to get the account number \n",
    "df3.head(50)"
   ]
  },
  {
   "cell_type": "markdown",
   "metadata": {},
   "source": [
    "#### pas  de valeurs khw... pour ce pdf"
   ]
  },
  {
   "cell_type": "code",
   "execution_count": null,
   "metadata": {},
   "outputs": [],
   "source": []
  }
 ],
 "metadata": {
  "kernelspec": {
   "display_name": "Python 3",
   "language": "python",
   "name": "python3"
  },
  "language_info": {
   "codemirror_mode": {
    "name": "ipython",
    "version": 3
   },
   "file_extension": ".py",
   "mimetype": "text/x-python",
   "name": "python",
   "nbconvert_exporter": "python",
   "pygments_lexer": "ipython3",
   "version": "3.7.3"
  }
 },
 "nbformat": 4,
 "nbformat_minor": 2
}
